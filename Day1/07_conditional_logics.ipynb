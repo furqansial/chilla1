{
 "cells": [
  {
   "cell_type": "code",
   "execution_count": 3,
   "metadata": {},
   "outputs": [],
   "source": [
    "# logical operators are either \"true or false\" or \"yes or no\" or \"0 or 1\"\n",
    "# Equals: a == b\n",
    "# Not Equals: a != b\n",
    "# Less than: a < b\n",
    "# Less than or equal to: a <= b\n",
    "# Greater than: a > b\n",
    "# Greater than or equal to: a >= b"
   ]
  },
  {
   "cell_type": "code",
   "execution_count": 2,
   "metadata": {},
   "outputs": [
    {
     "name": "stdout",
     "output_type": "stream",
     "text": [
      "B\n"
     ]
    }
   ],
   "source": [
    "a = 2\n",
    "b = 330\n",
    "print(\"A\") if a > b else print(\"B\")"
   ]
  },
  {
   "cell_type": "code",
   "execution_count": 4,
   "metadata": {},
   "outputs": [
    {
     "name": "stdout",
     "output_type": "stream",
     "text": [
      "True\n",
      "False\n",
      "True\n",
      "False\n",
      "True\n",
      "True\n"
     ]
    }
   ],
   "source": [
    "print(4==4)\n",
    "print(4!=4)\n",
    "print(4>3)\n",
    "print(3>6)\n",
    "print(3<=5)\n",
    "print(5>=4)"
   ]
  },
  {
   "cell_type": "code",
   "execution_count": 5,
   "metadata": {},
   "outputs": [
    {
     "name": "stdout",
     "output_type": "stream",
     "text": [
      "False\n"
     ]
    }
   ],
   "source": [
    "#application of logical operators\n",
    "hammad_age=4\n",
    "age_at_school=5\n",
    "print(hammad_age==age_at_school)"
   ]
  },
  {
   "cell_type": "code",
   "execution_count": 9,
   "metadata": {},
   "outputs": [
    {
     "name": "stdout",
     "output_type": "stream",
     "text": [
      "True\n"
     ]
    }
   ],
   "source": [
    "#input function and logicals\n",
    "age_at_school=5\n",
    "hammad_age=int(input(\"Enter your age: \"))\n",
    "print(hammad_age>=age_at_school)"
   ]
  },
  {
   "cell_type": "code",
   "execution_count": null,
   "metadata": {},
   "outputs": [],
   "source": []
  }
 ],
 "metadata": {
  "kernelspec": {
   "display_name": "Python 3.10.4 ('DSwithPython')",
   "language": "python",
   "name": "python3"
  },
  "language_info": {
   "codemirror_mode": {
    "name": "ipython",
    "version": 3
   },
   "file_extension": ".py",
   "mimetype": "text/x-python",
   "name": "python",
   "nbconvert_exporter": "python",
   "pygments_lexer": "ipython3",
   "version": "3.10.4"
  },
  "orig_nbformat": 4,
  "vscode": {
   "interpreter": {
    "hash": "54a8f3a56e4d9a61015275342166086a385068b0fbe31d31b05a55222a4e7126"
   }
  }
 },
 "nbformat": 4,
 "nbformat_minor": 2
}
