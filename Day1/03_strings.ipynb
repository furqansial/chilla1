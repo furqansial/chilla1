{
 "cells": [
  {
   "cell_type": "code",
   "execution_count": 2,
   "metadata": {},
   "outputs": [
    {
     "name": "stdout",
     "output_type": "stream",
     "text": [
      "Hello world\n",
      "I am learning python the hard way\n",
      "test for single quotes\n",
      "test for double quotes\n",
      "test for triple quotes\n"
     ]
    }
   ],
   "source": [
    "print(\"Hello world\")\n",
    "print(\"I am learning python the hard way\")\n",
    "print('test for single quotes')\n",
    "print(\"test for double quotes\")\n",
    "print('''test for triple quotes''')"
   ]
  },
  {
   "cell_type": "code",
   "execution_count": null,
   "metadata": {},
   "outputs": [],
   "source": [
    "# \\'\tSingle Quote\t\n",
    "# \\\\\tBackslash\t\n",
    "# \\n\tNew Line\t\n",
    "# \\r\tCarriage Return\t\n",
    "# \\t\tTab\t\n",
    "# \\b\tBackspace\t\n",
    "# \\f\tForm Feed\t\n",
    "# \\ooo\tOctal value\t\n",
    "# \\xhh\tHex value\t\n"
   ]
  }
 ],
 "metadata": {
  "kernelspec": {
   "display_name": "Python 3.10.4 ('DSwithPython')",
   "language": "python",
   "name": "python3"
  },
  "language_info": {
   "codemirror_mode": {
    "name": "ipython",
    "version": 3
   },
   "file_extension": ".py",
   "mimetype": "text/x-python",
   "name": "python",
   "nbconvert_exporter": "python",
   "pygments_lexer": "ipython3",
   "version": "3.10.4"
  },
  "orig_nbformat": 4,
  "vscode": {
   "interpreter": {
    "hash": "54a8f3a56e4d9a61015275342166086a385068b0fbe31d31b05a55222a4e7126"
   }
  }
 },
 "nbformat": 4,
 "nbformat_minor": 2
}
