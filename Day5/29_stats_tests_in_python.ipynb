{
 "cells": [
  {
   "cell_type": "markdown",
   "metadata": {},
   "source": [
    "## 1. Shapiro-wilk test\n",
    "Test whether a data sample has a gaussian distribution\n",
    "**Assumptions**\n",
    "1. Observation in each sample are independent and identically distributed (iid)\n",
    "2. Interpretation\n",
    "\n",
    "- H0: The sample has a guassianNormal distribution\n",
    "- H0: The sample does not have a gaussian/normal distribution"
   ]
  },
  {
   "cell_type": "code",
   "execution_count": 3,
   "metadata": {},
   "outputs": [
    {
     "name": "stdout",
     "output_type": "stream",
     "text": [
      "stat=0.895, p=0.193\n",
      "The Data is normal\n"
     ]
    }
   ],
   "source": [
    "# Example of shapiro-wilk Normality test\n",
    "from scipy.stats import shapiro\n",
    "data=[0.873,2.817,0.121,-0.945,-0.055,-1.436,0.360,-1.478,-1.637,-1.869]\n",
    "stat, p=shapiro(data)\n",
    "print('stat=%.3f, p=%.3f'% (stat, p))\n",
    "if p>0.05:\n",
    "    print('The Data is normal')\n",
    "else:\n",
    "    print('The data is not normal')"
   ]
  },
  {
   "cell_type": "code",
   "execution_count": 5,
   "metadata": {},
   "outputs": [
    {
     "data": {
      "text/plain": [
       "<AxesSubplot:>"
      ]
     },
     "execution_count": 5,
     "metadata": {},
     "output_type": "execute_result"
    },
    {
     "data": {
      "image/png": "[encoded data removed]",
      "text/plain": [
       "<Figure size 432x288 with 1 Axes>"
      ]
     },
     "metadata": {
      "needs_background": "light"
     },
     "output_type": "display_data"
    }
   ],
   "source": [
    "import pandas as pd\n",
    "import numpy as np\n",
    "import seaborn as sns\n",
    "import matplotlib.pyplot as plt\n",
    "ks=sns.load_dataset('titanic')\n",
    "ks['age'].hist()"
   ]
  },
  {
   "cell_type": "code",
   "execution_count": 9,
   "metadata": {},
   "outputs": [
    {
     "name": "stderr",
     "output_type": "stream",
     "text": [
      "d:\\installedsoft\\miniconda3\\envs\\DSPython\\lib\\site-packages\\seaborn\\_decorators.py:36: FutureWarning: Pass the following variable as a keyword arg: x. From version 0.12, the only valid positional argument will be `data`, and passing other arguments without an explicit keyword will result in an error or misinterpretation.\n",
      "  warnings.warn(\n"
     ]
    },
    {
     "data": {
      "text/plain": [
       "<AxesSubplot:xlabel='age'>"
      ]
     },
     "execution_count": 9,
     "metadata": {},
     "output_type": "execute_result"
    },
    {
     "data": {
      "image/png": "[encoded data removed]",
      "text/plain": [
       "<Figure size 432x288 with 1 Axes>"
      ]
     },
     "metadata": {
      "needs_background": "light"
     },
     "output_type": "display_data"
    }
   ],
   "source": [
    "sns.boxplot(ks['age'])"
   ]
  },
  {
   "cell_type": "code",
   "execution_count": 7,
   "metadata": {},
   "outputs": [
    {
     "name": "stdout",
     "output_type": "stream",
     "text": [
      "stat=nan, p=1.000\n",
      "The Data is normal\n"
     ]
    }
   ],
   "source": [
    "stat, p=shapiro(ks['age'])\n",
    "print('stat=%.3f, p=%.3f'% (stat, p))\n",
    "if p>0.05:\n",
    "    print('The Data is normal')\n",
    "else:\n",
    "    print('The data is not normal')"
   ]
  },
  {
   "cell_type": "code",
   "execution_count": 12,
   "metadata": {},
   "outputs": [
    {
     "name": "stdout",
     "output_type": "stream",
     "text": [
      "stat=0.743, p=0.000\n",
      "Probably Not normal distribution\n"
     ]
    }
   ],
   "source": [
    "ks=ks.dropna()\n",
    "stat, p=shapiro(ks['fare'])\n",
    "print('stat=%.3f, p=%.3f'% (stat, p))\n",
    "if p>0.05:\n",
    "    print('Probably normal distribution')\n",
    "else:\n",
    "    print('Probably Not normal distribution')"
   ]
  },
  {
   "cell_type": "code",
   "execution_count": 11,
   "metadata": {},
   "outputs": [
    {
     "name": "stderr",
     "output_type": "stream",
     "text": [
      "d:\\installedsoft\\miniconda3\\envs\\DSPython\\lib\\site-packages\\seaborn\\_decorators.py:36: FutureWarning: Pass the following variable as a keyword arg: x. From version 0.12, the only valid positional argument will be `data`, and passing other arguments without an explicit keyword will result in an error or misinterpretation.\n",
      "  warnings.warn(\n"
     ]
    },
    {
     "data": {
      "text/plain": [
       "<AxesSubplot:xlabel='fare'>"
      ]
     },
     "execution_count": 11,
     "metadata": {},
     "output_type": "execute_result"
    },
    {
     "data": {
      "image/png": "[encoded data removed]",
      "text/plain": [
       "<Figure size 432x288 with 1 Axes>"
      ]
     },
     "metadata": {
      "needs_background": "light"
     },
     "output_type": "display_data"
    }
   ],
   "source": [
    "sns.boxplot(ks['fare'])"
   ]
  },
  {
   "cell_type": "code",
   "execution_count": 13,
   "metadata": {},
   "outputs": [
    {
     "data": {
      "text/plain": [
       "<AxesSubplot:>"
      ]
     },
     "execution_count": 13,
     "metadata": {},
     "output_type": "execute_result"
    },
    {
     "data": {
      "image/png": "[encoded data removed]",
      "text/plain": [
       "<Figure size 432x288 with 1 Axes>"
      ]
     },
     "metadata": {
      "needs_background": "light"
     },
     "output_type": "display_data"
    }
   ],
   "source": [
    "ks['fare'].hist()"
   ]
  },
  {
   "cell_type": "markdown",
   "metadata": {},
   "source": [
    "---"
   ]
  },
  {
   "cell_type": "markdown",
   "metadata": {},
   "source": [
    "# 2. Correlation test\n",
    "### 1. Pearson's correlation coefficiant\n",
    "Test whether two samples have a linear relationship\n",
    "\n",
    "**Assumptions**\n",
    "\n",
    "1. Observation in each sample are independent and identically distributed (iid)\n",
    "2. Observations in each sample are normally distributed\n",
    "3. Observations in each sample have the same variance\n",
    "4. Interpretation\n",
    "\n",
    "- H0: The two samples are independent\n",
    "- H1: There is a dependency between the samples"
   ]
  },
  {
   "cell_type": "code",
   "execution_count": 16,
   "metadata": {},
   "outputs": [
    {
     "name": "stdout",
     "output_type": "stream",
     "text": [
      "stat=0.688, p=0.028\n",
      "Probably dependent\n"
     ]
    }
   ],
   "source": [
    "# example of pearson's correlation test\n",
    "from scipy.stats import pearsonr\n",
    "data1=[0.873,2.817,0.121,-0.945,-0.055,-1.436,0.360,-1.478,-1.637,-1.869]\n",
    "data2=[0.353,3.517,0.125,-7.545,-0.555,-1.536,3.350,-1.578,-3.537,-1.579]\n",
    "stat, p=pearsonr(data1, data2)\n",
    "print('stat=%.3f, p=%.3f'% (stat, p))\n",
    "if p>0.05:\n",
    "    print('Probably independent (no relation)')\n",
    "else:\n",
    "    print('Probably dependent (correlation exists)')"
   ]
  },
  {
   "cell_type": "markdown",
   "metadata": {},
   "source": [
    "### 2. Spearman Test\n",
    "Test whether two samples have a monotonic relationship\n",
    "\n",
    "**Assumptions**\n",
    "1. Observations in each sample are independent and Identically distributed (iid)\n",
    "2. Observations in each sample can be ranked\n",
    "3. Interpretation\n",
    "\n",
    "- H0: The two samples are independent\n",
    "- H1: There is a dependency between the samples\n"
   ]
  },
  {
   "cell_type": "code",
   "execution_count": 17,
   "metadata": {},
   "outputs": [
    {
     "name": "stdout",
     "output_type": "stream",
     "text": [
      "stat=0.855, p=0.002\n",
      "Probably dependent (correlation exists)\n"
     ]
    }
   ],
   "source": [
    "from scipy.stats import spearmanr\n",
    "data1=[0.873,2.817,0.121,-0.945,-0.055,-1.436,0.360,-1.478,-1.637,-1.869]\n",
    "data2=[0.353,3.517,0.125,-7.545,-0.555,-1.536,3.350,-1.578,-3.537,-1.579]\n",
    "stat, p=spearmanr(data1, data2)\n",
    "print('stat=%.3f, p=%.3f'% (stat, p))\n",
    "if p>0.05:\n",
    "    print('Probably independent (no relation)')\n",
    "else:\n",
    "    print('Probably dependent (correlation exists)')"
   ]
  },
  {
   "cell_type": "code",
   "execution_count": 18,
   "metadata": {},
   "outputs": [
    {
     "name": "stdout",
     "output_type": "stream",
     "text": [
      "stat=-0.091, p=0.223\n",
      "Probably independent (no relation)\n"
     ]
    }
   ],
   "source": [
    "stat, p=pearsonr(ks['age'], ks['fare'])\n",
    "print('stat=%.3f, p=%.3f'% (stat, p))\n",
    "if p>0.05:\n",
    "    print('Probably independent (no relation)')\n",
    "else:\n",
    "    print('Probably dependent (correlation exists)')"
   ]
  },
  {
   "cell_type": "code",
   "execution_count": 19,
   "metadata": {},
   "outputs": [
    {
     "name": "stdout",
     "output_type": "stream",
     "text": [
      "stat=-0.073, p=0.330\n",
      "Probably independent (no relation)\n"
     ]
    }
   ],
   "source": [
    "stat, p=spearmanr(ks['age'], ks['fare'])\n",
    "print('stat=%.3f, p=%.3f'% (stat, p))\n",
    "if p>0.05:\n",
    "    print('Probably independent (no relation)')\n",
    "else:\n",
    "    print('Probably dependent (correlation exists)')"
   ]
  },
  {
   "cell_type": "markdown",
   "metadata": {},
   "source": [
    "## 3. Chi-Squared Test\n",
    "Tests whether two categorical variables are related or independent\n",
    "\n",
    "**Assumption**\n",
    "\n",
    "Observation used in the calculation of the contengency table are independent. 25 or more examples in each cell  of the contingency table. \\\n",
    "Interpretation\n",
    "\n",
    "- H0: The two samples are independent\n",
    "- H1: There is a dependency between the samples"
   ]
  },
  {
   "cell_type": "code",
   "execution_count": 20,
   "metadata": {},
   "outputs": [
    {
     "name": "stdout",
     "output_type": "stream",
     "text": [
      "stat=0.272, p=0.873\n",
      "Probably independent (no relation)\n"
     ]
    }
   ],
   "source": [
    "# example of chi-squared test\n",
    "from scipy.stats import chi2_contingency\n",
    "table=[[10,20,30], [6,9,17]]\n",
    "stat, p, dof, expected = chi2_contingency(table)\n",
    "print('stat=%.3f, p=%.3f'% (stat, p))\n",
    "if p>0.05:\n",
    "    print('Probably independent (no relation)')\n",
    "else:\n",
    "    print('Probably dependent (correlation exists)')"
   ]
  },
  {
   "cell_type": "markdown",
   "metadata": {},
   "source": [
    "## 3. Parametric Statistical Hypothesis Tests\n",
    "### 1. Student's t-Test\n",
    "\n",
    "Tests whether the means of two independent samples are significantly different\n",
    "\n",
    "**Assumptions**\n",
    "\n",
    "1. Observations in each sample are independent and identically distributed (iid)\n",
    "2. Observations in each sample are normally distributed\n",
    "3. Observations in each sample have the same variance\n",
    "4. Interpretation\n",
    "\n",
    "- H0 The means of samples are equal \n",
    "- H1 The means of samples are unequal"
   ]
  },
  {
   "cell_type": "code",
   "execution_count": 21,
   "metadata": {},
   "outputs": [
    {
     "name": "stdout",
     "output_type": "stream",
     "text": [
      "stat=0.515, p=0.613\n",
      "Probably the same distribution\n"
     ]
    }
   ],
   "source": [
    "from scipy.stats import ttest_ind\n",
    "stat, p = ttest_ind(data1, data2)\n",
    "print('stat=%.3f, p=%.3f'% (stat, p))\n",
    "if p>0.05:\n",
    "    print('Probably the same dataset')\n",
    "else:\n",
    "    print('Probably different dataset')"
   ]
  },
  {
   "cell_type": "markdown",
   "metadata": {},
   "source": [
    "### 2. Paired Student's t-test\n",
    "\n",
    "Test whether the means of two paired samples are significantly different\n",
    "\n",
    "**Assumptions**\n",
    "\n",
    "1. Observations in each sample are independent and identically distributed (iid)\n",
    "2. Observations in each sample are normally distributed\n",
    "3. Observation in each sample have same variance\n",
    "4. Observations across each sample are paired\n",
    "5. Interpretation\n",
    "   \n",
    "- H0: The means of the samples are equal\n",
    "- H1: The means of the samples are unequal"
   ]
  },
  {
   "cell_type": "code",
   "execution_count": 22,
   "metadata": {},
   "outputs": [
    {
     "name": "stdout",
     "output_type": "stream",
     "text": [
      "stat=0.741, p=0.478\n",
      "Probably the same dataset\n"
     ]
    }
   ],
   "source": [
    "# example of the paired student's t-test\n",
    "from scipy.stats import ttest_rel\n",
    "stat, p = ttest_rel(data1, data2)\n",
    "print('stat=%.3f, p=%.3f'% (stat, p))\n",
    "if p>0.05:\n",
    "    print('Probably the same dataset')\n",
    "else:\n",
    "    print('Probably different dataset')"
   ]
  },
  {
   "cell_type": "markdown",
   "metadata": {},
   "source": [
    "## Analysis of Variance Test (ANOVA)\n",
    "Tests whether the means of two or more independent samples are significantly different\n",
    "\n",
    "**Assumptions**\n",
    "1. Observations in each sample are independent and identically distributed (iid)\n",
    "2. Observations in each sample are normally distributed\n",
    "3. Observations in each sample have the same variance\n",
    "4. Interpretation\n",
    "   \n",
    "- H0: The means of samples are equal\n",
    "- H1: one or more of the means of the samples are unequal"
   ]
  },
  {
   "cell_type": "code",
   "execution_count": 23,
   "metadata": {},
   "outputs": [
    {
     "name": "stdout",
     "output_type": "stream",
     "text": [
      "stat=0.226, p=0.799\n",
      "Probably the same dataset\n"
     ]
    }
   ],
   "source": [
    "# Example of analysis of Variance test\n",
    "from scipy.stats import f_oneway\n",
    "stat, p = f_oneway(data,data1, data2)\n",
    "print('stat=%.3f, p=%.3f'% (stat, p))\n",
    "if p>0.05:\n",
    "    print('Probably the same dataset')\n",
    "else:\n",
    "    print('Probably different dataset')"
   ]
  },
  {
   "cell_type": "code",
   "execution_count": null,
   "metadata": {},
   "outputs": [],
   "source": []
  }
 ],
 "metadata": {
  "kernelspec": {
   "display_name": "Python 3.10.5 ('DSPython')",
   "language": "python",
   "name": "python3"
  },
  "language_info": {
   "codemirror_mode": {
    "name": "ipython",
    "version": 3
   },
   "file_extension": ".py",
   "mimetype": "text/x-python",
   "name": "python",
   "nbconvert_exporter": "python",
   "pygments_lexer": "ipython3",
   "version": "3.10.5"
  },
  "orig_nbformat": 4,
  "vscode": {
   "interpreter": {
    "hash": "93986b8e7468326bc9889ab39fcbde95de59938d273344dd2735bc8b31ca8b6d"
   }
  }
 },
 "nbformat": 4,
 "nbformat_minor": 2
}
