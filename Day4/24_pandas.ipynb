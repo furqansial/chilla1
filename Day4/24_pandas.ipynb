{
 "cells": [
  {
   "cell_type": "code",
   "execution_count": 32,
   "metadata": {},
   "outputs": [],
   "source": [
    "# Install libraries\n",
    "# pip install pandas\n",
    "# pip install numpy"
   ]
  },
  {
   "cell_type": "markdown",
   "metadata": {},
   "source": [
    "## import libraries\n"
   ]
  },
  {
   "cell_type": "code",
   "execution_count": 33,
   "metadata": {},
   "outputs": [],
   "source": [
    "import pandas as pd\n",
    "import numpy as np"
   ]
  },
  {
   "cell_type": "code",
   "execution_count": 34,
   "metadata": {},
   "outputs": [
    {
     "data": {
      "text/plain": [
       "0    3.0\n",
       "1    1.0\n",
       "2    2.0\n",
       "3    NaN\n",
       "4    4.0\n",
       "5    9.0\n",
       "6    8.0\n",
       "dtype: float64"
      ]
     },
     "execution_count": 34,
     "metadata": {},
     "output_type": "execute_result"
    }
   ],
   "source": [
    "# object creation\n",
    "s=pd.Series([3,1,2,np.nan,4,9,8])\n",
    "s"
   ]
  },
  {
   "cell_type": "code",
   "execution_count": 35,
   "metadata": {},
   "outputs": [
    {
     "data": {
      "text/plain": [
       "DatetimeIndex(['2013-01-01', '2013-01-02', '2013-01-03', '2013-01-04',\n",
       "               '2013-01-05', '2013-01-06'],\n",
       "              dtype='datetime64[ns]', freq='D')"
      ]
     },
     "execution_count": 35,
     "metadata": {},
     "output_type": "execute_result"
    }
   ],
   "source": [
    "dates=pd.date_range('20130101', periods=6)\n",
    "dates"
   ]
  },
  {
   "cell_type": "code",
   "execution_count": 36,
   "metadata": {},
   "outputs": [
    {
     "data": {
      "text/html": [
       "<div>\n",
       "<style scoped>\n",
       "    .dataframe tbody tr th:only-of-type {\n",
       "        vertical-align: middle;\n",
       "    }\n",
       "\n",
       "    .dataframe tbody tr th {\n",
       "        vertical-align: top;\n",
       "    }\n",
       "\n",
       "    .dataframe thead th {\n",
       "        text-align: right;\n",
       "    }\n",
       "</style>\n",
       "<table border=\"1\" class=\"dataframe\">\n",
       "  <thead>\n",
       "    <tr style=\"text-align: right;\">\n",
       "      <th></th>\n",
       "      <th>A</th>\n",
       "      <th>B</th>\n",
       "      <th>C</th>\n",
       "      <th>D</th>\n",
       "    </tr>\n",
       "  </thead>\n",
       "  <tbody>\n",
       "    <tr>\n",
       "      <th>2013-01-01</th>\n",
       "      <td>0.939961</td>\n",
       "      <td>0.197282</td>\n",
       "      <td>-0.695424</td>\n",
       "      <td>-0.918400</td>\n",
       "    </tr>\n",
       "    <tr>\n",
       "      <th>2013-01-02</th>\n",
       "      <td>0.108016</td>\n",
       "      <td>0.911748</td>\n",
       "      <td>-0.245428</td>\n",
       "      <td>1.805189</td>\n",
       "    </tr>\n",
       "    <tr>\n",
       "      <th>2013-01-03</th>\n",
       "      <td>2.425627</td>\n",
       "      <td>0.647005</td>\n",
       "      <td>-2.265677</td>\n",
       "      <td>0.562418</td>\n",
       "    </tr>\n",
       "    <tr>\n",
       "      <th>2013-01-04</th>\n",
       "      <td>-0.586483</td>\n",
       "      <td>1.360005</td>\n",
       "      <td>0.981504</td>\n",
       "      <td>-2.549965</td>\n",
       "    </tr>\n",
       "    <tr>\n",
       "      <th>2013-01-05</th>\n",
       "      <td>1.243591</td>\n",
       "      <td>0.455080</td>\n",
       "      <td>-0.051158</td>\n",
       "      <td>-0.637151</td>\n",
       "    </tr>\n",
       "    <tr>\n",
       "      <th>2013-01-06</th>\n",
       "      <td>1.599911</td>\n",
       "      <td>1.135875</td>\n",
       "      <td>-0.779164</td>\n",
       "      <td>0.857312</td>\n",
       "    </tr>\n",
       "  </tbody>\n",
       "</table>\n",
       "</div>"
      ],
      "text/plain": [
       "                   A         B         C         D\n",
       "2013-01-01  0.939961  0.197282 -0.695424 -0.918400\n",
       "2013-01-02  0.108016  0.911748 -0.245428  1.805189\n",
       "2013-01-03  2.425627  0.647005 -2.265677  0.562418\n",
       "2013-01-04 -0.586483  1.360005  0.981504 -2.549965\n",
       "2013-01-05  1.243591  0.455080 -0.051158 -0.637151\n",
       "2013-01-06  1.599911  1.135875 -0.779164  0.857312"
      ]
     },
     "execution_count": 36,
     "metadata": {},
     "output_type": "execute_result"
    }
   ],
   "source": [
    "df=pd.DataFrame(np.random.randn(6,4), index=dates, columns=list(\"ABCD\"))\n",
    "df"
   ]
  },
  {
   "cell_type": "code",
   "execution_count": 37,
   "metadata": {},
   "outputs": [],
   "source": [
    "df2=pd.DataFrame(\n",
    "    {\n",
    "        'A':1.0,\n",
    "        'B':pd.Timestamp('20130103'),\n",
    "        'C':pd.Series(1, index=list(range(4)), dtype='float32'),\n",
    "        'D':np.array([3]*4, dtype='int32'),\n",
    "        'E':pd.Categorical(['girl','woman','girl','woman']),\n",
    "        'F':'female'\n",
    "    }\n",
    ")"
   ]
  },
  {
   "cell_type": "code",
   "execution_count": 38,
   "metadata": {},
   "outputs": [
    {
     "data": {
      "text/html": [
       "<div>\n",
       "<style scoped>\n",
       "    .dataframe tbody tr th:only-of-type {\n",
       "        vertical-align: middle;\n",
       "    }\n",
       "\n",
       "    .dataframe tbody tr th {\n",
       "        vertical-align: top;\n",
       "    }\n",
       "\n",
       "    .dataframe thead th {\n",
       "        text-align: right;\n",
       "    }\n",
       "</style>\n",
       "<table border=\"1\" class=\"dataframe\">\n",
       "  <thead>\n",
       "    <tr style=\"text-align: right;\">\n",
       "      <th></th>\n",
       "      <th>A</th>\n",
       "      <th>B</th>\n",
       "      <th>C</th>\n",
       "      <th>D</th>\n",
       "      <th>E</th>\n",
       "      <th>F</th>\n",
       "    </tr>\n",
       "  </thead>\n",
       "  <tbody>\n",
       "    <tr>\n",
       "      <th>0</th>\n",
       "      <td>1.0</td>\n",
       "      <td>2013-01-03</td>\n",
       "      <td>1.0</td>\n",
       "      <td>3</td>\n",
       "      <td>girl</td>\n",
       "      <td>female</td>\n",
       "    </tr>\n",
       "    <tr>\n",
       "      <th>1</th>\n",
       "      <td>1.0</td>\n",
       "      <td>2013-01-03</td>\n",
       "      <td>1.0</td>\n",
       "      <td>3</td>\n",
       "      <td>woman</td>\n",
       "      <td>female</td>\n",
       "    </tr>\n",
       "    <tr>\n",
       "      <th>2</th>\n",
       "      <td>1.0</td>\n",
       "      <td>2013-01-03</td>\n",
       "      <td>1.0</td>\n",
       "      <td>3</td>\n",
       "      <td>girl</td>\n",
       "      <td>female</td>\n",
       "    </tr>\n",
       "    <tr>\n",
       "      <th>3</th>\n",
       "      <td>1.0</td>\n",
       "      <td>2013-01-03</td>\n",
       "      <td>1.0</td>\n",
       "      <td>3</td>\n",
       "      <td>woman</td>\n",
       "      <td>female</td>\n",
       "    </tr>\n",
       "  </tbody>\n",
       "</table>\n",
       "</div>"
      ],
      "text/plain": [
       "     A          B    C  D      E       F\n",
       "0  1.0 2013-01-03  1.0  3   girl  female\n",
       "1  1.0 2013-01-03  1.0  3  woman  female\n",
       "2  1.0 2013-01-03  1.0  3   girl  female\n",
       "3  1.0 2013-01-03  1.0  3  woman  female"
      ]
     },
     "execution_count": 38,
     "metadata": {},
     "output_type": "execute_result"
    }
   ],
   "source": [
    "df2"
   ]
  },
  {
   "cell_type": "code",
   "execution_count": 39,
   "metadata": {},
   "outputs": [
    {
     "data": {
      "text/plain": [
       "A           float64\n",
       "B    datetime64[ns]\n",
       "C           float32\n",
       "D             int32\n",
       "E          category\n",
       "F            object\n",
       "dtype: object"
      ]
     },
     "execution_count": 39,
     "metadata": {},
     "output_type": "execute_result"
    }
   ],
   "source": [
    "df2.dtypes"
   ]
  },
  {
   "cell_type": "code",
   "execution_count": 40,
   "metadata": {},
   "outputs": [
    {
     "data": {
      "text/html": [
       "<div>\n",
       "<style scoped>\n",
       "    .dataframe tbody tr th:only-of-type {\n",
       "        vertical-align: middle;\n",
       "    }\n",
       "\n",
       "    .dataframe tbody tr th {\n",
       "        vertical-align: top;\n",
       "    }\n",
       "\n",
       "    .dataframe thead th {\n",
       "        text-align: right;\n",
       "    }\n",
       "</style>\n",
       "<table border=\"1\" class=\"dataframe\">\n",
       "  <thead>\n",
       "    <tr style=\"text-align: right;\">\n",
       "      <th></th>\n",
       "      <th>A</th>\n",
       "      <th>B</th>\n",
       "      <th>C</th>\n",
       "      <th>D</th>\n",
       "    </tr>\n",
       "  </thead>\n",
       "  <tbody>\n",
       "    <tr>\n",
       "      <th>2013-01-01</th>\n",
       "      <td>0.939961</td>\n",
       "      <td>0.197282</td>\n",
       "      <td>-0.695424</td>\n",
       "      <td>-0.918400</td>\n",
       "    </tr>\n",
       "    <tr>\n",
       "      <th>2013-01-02</th>\n",
       "      <td>0.108016</td>\n",
       "      <td>0.911748</td>\n",
       "      <td>-0.245428</td>\n",
       "      <td>1.805189</td>\n",
       "    </tr>\n",
       "    <tr>\n",
       "      <th>2013-01-03</th>\n",
       "      <td>2.425627</td>\n",
       "      <td>0.647005</td>\n",
       "      <td>-2.265677</td>\n",
       "      <td>0.562418</td>\n",
       "    </tr>\n",
       "    <tr>\n",
       "      <th>2013-01-04</th>\n",
       "      <td>-0.586483</td>\n",
       "      <td>1.360005</td>\n",
       "      <td>0.981504</td>\n",
       "      <td>-2.549965</td>\n",
       "    </tr>\n",
       "    <tr>\n",
       "      <th>2013-01-05</th>\n",
       "      <td>1.243591</td>\n",
       "      <td>0.455080</td>\n",
       "      <td>-0.051158</td>\n",
       "      <td>-0.637151</td>\n",
       "    </tr>\n",
       "  </tbody>\n",
       "</table>\n",
       "</div>"
      ],
      "text/plain": [
       "                   A         B         C         D\n",
       "2013-01-01  0.939961  0.197282 -0.695424 -0.918400\n",
       "2013-01-02  0.108016  0.911748 -0.245428  1.805189\n",
       "2013-01-03  2.425627  0.647005 -2.265677  0.562418\n",
       "2013-01-04 -0.586483  1.360005  0.981504 -2.549965\n",
       "2013-01-05  1.243591  0.455080 -0.051158 -0.637151"
      ]
     },
     "execution_count": 40,
     "metadata": {},
     "output_type": "execute_result"
    }
   ],
   "source": [
    "df.head()"
   ]
  },
  {
   "cell_type": "code",
   "execution_count": 41,
   "metadata": {},
   "outputs": [
    {
     "data": {
      "text/html": [
       "<div>\n",
       "<style scoped>\n",
       "    .dataframe tbody tr th:only-of-type {\n",
       "        vertical-align: middle;\n",
       "    }\n",
       "\n",
       "    .dataframe tbody tr th {\n",
       "        vertical-align: top;\n",
       "    }\n",
       "\n",
       "    .dataframe thead th {\n",
       "        text-align: right;\n",
       "    }\n",
       "</style>\n",
       "<table border=\"1\" class=\"dataframe\">\n",
       "  <thead>\n",
       "    <tr style=\"text-align: right;\">\n",
       "      <th></th>\n",
       "      <th>A</th>\n",
       "      <th>B</th>\n",
       "      <th>C</th>\n",
       "      <th>D</th>\n",
       "    </tr>\n",
       "  </thead>\n",
       "  <tbody>\n",
       "    <tr>\n",
       "      <th>2013-01-02</th>\n",
       "      <td>0.108016</td>\n",
       "      <td>0.911748</td>\n",
       "      <td>-0.245428</td>\n",
       "      <td>1.805189</td>\n",
       "    </tr>\n",
       "    <tr>\n",
       "      <th>2013-01-03</th>\n",
       "      <td>2.425627</td>\n",
       "      <td>0.647005</td>\n",
       "      <td>-2.265677</td>\n",
       "      <td>0.562418</td>\n",
       "    </tr>\n",
       "    <tr>\n",
       "      <th>2013-01-04</th>\n",
       "      <td>-0.586483</td>\n",
       "      <td>1.360005</td>\n",
       "      <td>0.981504</td>\n",
       "      <td>-2.549965</td>\n",
       "    </tr>\n",
       "    <tr>\n",
       "      <th>2013-01-05</th>\n",
       "      <td>1.243591</td>\n",
       "      <td>0.455080</td>\n",
       "      <td>-0.051158</td>\n",
       "      <td>-0.637151</td>\n",
       "    </tr>\n",
       "    <tr>\n",
       "      <th>2013-01-06</th>\n",
       "      <td>1.599911</td>\n",
       "      <td>1.135875</td>\n",
       "      <td>-0.779164</td>\n",
       "      <td>0.857312</td>\n",
       "    </tr>\n",
       "  </tbody>\n",
       "</table>\n",
       "</div>"
      ],
      "text/plain": [
       "                   A         B         C         D\n",
       "2013-01-02  0.108016  0.911748 -0.245428  1.805189\n",
       "2013-01-03  2.425627  0.647005 -2.265677  0.562418\n",
       "2013-01-04 -0.586483  1.360005  0.981504 -2.549965\n",
       "2013-01-05  1.243591  0.455080 -0.051158 -0.637151\n",
       "2013-01-06  1.599911  1.135875 -0.779164  0.857312"
      ]
     },
     "execution_count": 41,
     "metadata": {},
     "output_type": "execute_result"
    }
   ],
   "source": [
    "df.tail()"
   ]
  },
  {
   "cell_type": "code",
   "execution_count": 42,
   "metadata": {},
   "outputs": [
    {
     "data": {
      "text/plain": [
       "DatetimeIndex(['2013-01-01', '2013-01-02', '2013-01-03', '2013-01-04',\n",
       "               '2013-01-05', '2013-01-06'],\n",
       "              dtype='datetime64[ns]', freq='D')"
      ]
     },
     "execution_count": 42,
     "metadata": {},
     "output_type": "execute_result"
    }
   ],
   "source": [
    "df.index"
   ]
  },
  {
   "cell_type": "code",
   "execution_count": 43,
   "metadata": {},
   "outputs": [
    {
     "data": {
      "text/plain": [
       "Int64Index([0, 1, 2, 3], dtype='int64')"
      ]
     },
     "execution_count": 43,
     "metadata": {},
     "output_type": "execute_result"
    }
   ],
   "source": [
    "df2.index"
   ]
  },
  {
   "cell_type": "code",
   "execution_count": 44,
   "metadata": {},
   "outputs": [
    {
     "data": {
      "text/plain": [
       "array([[ 0.93996075,  0.19728187, -0.69542352, -0.91840044],\n",
       "       [ 0.10801622,  0.91174785, -0.24542779,  1.80518882],\n",
       "       [ 2.42562696,  0.64700545, -2.26567692,  0.56241753],\n",
       "       [-0.58648313,  1.36000537,  0.98150384, -2.54996472],\n",
       "       [ 1.24359053,  0.45508011, -0.05115825, -0.63715069],\n",
       "       [ 1.59991112,  1.13587485, -0.77916365,  0.85731216]])"
      ]
     },
     "execution_count": 44,
     "metadata": {},
     "output_type": "execute_result"
    }
   ],
   "source": [
    "df.to_numpy()"
   ]
  },
  {
   "cell_type": "code",
   "execution_count": 45,
   "metadata": {},
   "outputs": [
    {
     "data": {
      "text/plain": [
       "array([[1.0, Timestamp('2013-01-03 00:00:00'), 1.0, 3, 'girl', 'female'],\n",
       "       [1.0, Timestamp('2013-01-03 00:00:00'), 1.0, 3, 'woman', 'female'],\n",
       "       [1.0, Timestamp('2013-01-03 00:00:00'), 1.0, 3, 'girl', 'female'],\n",
       "       [1.0, Timestamp('2013-01-03 00:00:00'), 1.0, 3, 'woman', 'female']],\n",
       "      dtype=object)"
      ]
     },
     "execution_count": 45,
     "metadata": {},
     "output_type": "execute_result"
    }
   ],
   "source": [
    "df2.to_numpy()"
   ]
  },
  {
   "cell_type": "code",
   "execution_count": 46,
   "metadata": {},
   "outputs": [
    {
     "data": {
      "text/html": [
       "<div>\n",
       "<style scoped>\n",
       "    .dataframe tbody tr th:only-of-type {\n",
       "        vertical-align: middle;\n",
       "    }\n",
       "\n",
       "    .dataframe tbody tr th {\n",
       "        vertical-align: top;\n",
       "    }\n",
       "\n",
       "    .dataframe thead th {\n",
       "        text-align: right;\n",
       "    }\n",
       "</style>\n",
       "<table border=\"1\" class=\"dataframe\">\n",
       "  <thead>\n",
       "    <tr style=\"text-align: right;\">\n",
       "      <th></th>\n",
       "      <th>A</th>\n",
       "      <th>B</th>\n",
       "      <th>C</th>\n",
       "      <th>D</th>\n",
       "    </tr>\n",
       "  </thead>\n",
       "  <tbody>\n",
       "    <tr>\n",
       "      <th>count</th>\n",
       "      <td>6.000000</td>\n",
       "      <td>6.000000</td>\n",
       "      <td>6.000000</td>\n",
       "      <td>6.000000</td>\n",
       "    </tr>\n",
       "    <tr>\n",
       "      <th>mean</th>\n",
       "      <td>0.955104</td>\n",
       "      <td>0.784499</td>\n",
       "      <td>-0.509224</td>\n",
       "      <td>-0.146766</td>\n",
       "    </tr>\n",
       "    <tr>\n",
       "      <th>std</th>\n",
       "      <td>1.072913</td>\n",
       "      <td>0.434306</td>\n",
       "      <td>1.067178</td>\n",
       "      <td>1.544830</td>\n",
       "    </tr>\n",
       "    <tr>\n",
       "      <th>min</th>\n",
       "      <td>-0.586483</td>\n",
       "      <td>0.197282</td>\n",
       "      <td>-2.265677</td>\n",
       "      <td>-2.549965</td>\n",
       "    </tr>\n",
       "    <tr>\n",
       "      <th>25%</th>\n",
       "      <td>0.316002</td>\n",
       "      <td>0.503061</td>\n",
       "      <td>-0.758229</td>\n",
       "      <td>-0.848088</td>\n",
       "    </tr>\n",
       "    <tr>\n",
       "      <th>50%</th>\n",
       "      <td>1.091776</td>\n",
       "      <td>0.779377</td>\n",
       "      <td>-0.470426</td>\n",
       "      <td>-0.037367</td>\n",
       "    </tr>\n",
       "    <tr>\n",
       "      <th>75%</th>\n",
       "      <td>1.510831</td>\n",
       "      <td>1.079843</td>\n",
       "      <td>-0.099726</td>\n",
       "      <td>0.783589</td>\n",
       "    </tr>\n",
       "    <tr>\n",
       "      <th>max</th>\n",
       "      <td>2.425627</td>\n",
       "      <td>1.360005</td>\n",
       "      <td>0.981504</td>\n",
       "      <td>1.805189</td>\n",
       "    </tr>\n",
       "  </tbody>\n",
       "</table>\n",
       "</div>"
      ],
      "text/plain": [
       "              A         B         C         D\n",
       "count  6.000000  6.000000  6.000000  6.000000\n",
       "mean   0.955104  0.784499 -0.509224 -0.146766\n",
       "std    1.072913  0.434306  1.067178  1.544830\n",
       "min   -0.586483  0.197282 -2.265677 -2.549965\n",
       "25%    0.316002  0.503061 -0.758229 -0.848088\n",
       "50%    1.091776  0.779377 -0.470426 -0.037367\n",
       "75%    1.510831  1.079843 -0.099726  0.783589\n",
       "max    2.425627  1.360005  0.981504  1.805189"
      ]
     },
     "execution_count": 46,
     "metadata": {},
     "output_type": "execute_result"
    }
   ],
   "source": [
    "df.describe()"
   ]
  },
  {
   "cell_type": "code",
   "execution_count": 47,
   "metadata": {},
   "outputs": [
    {
     "data": {
      "text/html": [
       "<div>\n",
       "<style scoped>\n",
       "    .dataframe tbody tr th:only-of-type {\n",
       "        vertical-align: middle;\n",
       "    }\n",
       "\n",
       "    .dataframe tbody tr th {\n",
       "        vertical-align: top;\n",
       "    }\n",
       "\n",
       "    .dataframe thead th {\n",
       "        text-align: right;\n",
       "    }\n",
       "</style>\n",
       "<table border=\"1\" class=\"dataframe\">\n",
       "  <thead>\n",
       "    <tr style=\"text-align: right;\">\n",
       "      <th></th>\n",
       "      <th>2013-01-01</th>\n",
       "      <th>2013-01-02</th>\n",
       "      <th>2013-01-03</th>\n",
       "      <th>2013-01-04</th>\n",
       "      <th>2013-01-05</th>\n",
       "      <th>2013-01-06</th>\n",
       "    </tr>\n",
       "  </thead>\n",
       "  <tbody>\n",
       "    <tr>\n",
       "      <th>A</th>\n",
       "      <td>0.939961</td>\n",
       "      <td>0.108016</td>\n",
       "      <td>2.425627</td>\n",
       "      <td>-0.586483</td>\n",
       "      <td>1.243591</td>\n",
       "      <td>1.599911</td>\n",
       "    </tr>\n",
       "    <tr>\n",
       "      <th>B</th>\n",
       "      <td>0.197282</td>\n",
       "      <td>0.911748</td>\n",
       "      <td>0.647005</td>\n",
       "      <td>1.360005</td>\n",
       "      <td>0.455080</td>\n",
       "      <td>1.135875</td>\n",
       "    </tr>\n",
       "    <tr>\n",
       "      <th>C</th>\n",
       "      <td>-0.695424</td>\n",
       "      <td>-0.245428</td>\n",
       "      <td>-2.265677</td>\n",
       "      <td>0.981504</td>\n",
       "      <td>-0.051158</td>\n",
       "      <td>-0.779164</td>\n",
       "    </tr>\n",
       "    <tr>\n",
       "      <th>D</th>\n",
       "      <td>-0.918400</td>\n",
       "      <td>1.805189</td>\n",
       "      <td>0.562418</td>\n",
       "      <td>-2.549965</td>\n",
       "      <td>-0.637151</td>\n",
       "      <td>0.857312</td>\n",
       "    </tr>\n",
       "  </tbody>\n",
       "</table>\n",
       "</div>"
      ],
      "text/plain": [
       "   2013-01-01  2013-01-02  2013-01-03  2013-01-04  2013-01-05  2013-01-06\n",
       "A    0.939961    0.108016    2.425627   -0.586483    1.243591    1.599911\n",
       "B    0.197282    0.911748    0.647005    1.360005    0.455080    1.135875\n",
       "C   -0.695424   -0.245428   -2.265677    0.981504   -0.051158   -0.779164\n",
       "D   -0.918400    1.805189    0.562418   -2.549965   -0.637151    0.857312"
      ]
     },
     "execution_count": 47,
     "metadata": {},
     "output_type": "execute_result"
    }
   ],
   "source": [
    "df.T # to transpose data"
   ]
  },
  {
   "cell_type": "code",
   "execution_count": 49,
   "metadata": {},
   "outputs": [
    {
     "data": {
      "text/html": [
       "<div>\n",
       "<style scoped>\n",
       "    .dataframe tbody tr th:only-of-type {\n",
       "        vertical-align: middle;\n",
       "    }\n",
       "\n",
       "    .dataframe tbody tr th {\n",
       "        vertical-align: top;\n",
       "    }\n",
       "\n",
       "    .dataframe thead th {\n",
       "        text-align: right;\n",
       "    }\n",
       "</style>\n",
       "<table border=\"1\" class=\"dataframe\">\n",
       "  <thead>\n",
       "    <tr style=\"text-align: right;\">\n",
       "      <th></th>\n",
       "      <th>A</th>\n",
       "      <th>B</th>\n",
       "      <th>C</th>\n",
       "      <th>D</th>\n",
       "    </tr>\n",
       "  </thead>\n",
       "  <tbody>\n",
       "    <tr>\n",
       "      <th>2013-01-01</th>\n",
       "      <td>0.939961</td>\n",
       "      <td>0.197282</td>\n",
       "      <td>-0.695424</td>\n",
       "      <td>-0.918400</td>\n",
       "    </tr>\n",
       "    <tr>\n",
       "      <th>2013-01-02</th>\n",
       "      <td>0.108016</td>\n",
       "      <td>0.911748</td>\n",
       "      <td>-0.245428</td>\n",
       "      <td>1.805189</td>\n",
       "    </tr>\n",
       "    <tr>\n",
       "      <th>2013-01-03</th>\n",
       "      <td>2.425627</td>\n",
       "      <td>0.647005</td>\n",
       "      <td>-2.265677</td>\n",
       "      <td>0.562418</td>\n",
       "    </tr>\n",
       "    <tr>\n",
       "      <th>2013-01-04</th>\n",
       "      <td>-0.586483</td>\n",
       "      <td>1.360005</td>\n",
       "      <td>0.981504</td>\n",
       "      <td>-2.549965</td>\n",
       "    </tr>\n",
       "    <tr>\n",
       "      <th>2013-01-05</th>\n",
       "      <td>1.243591</td>\n",
       "      <td>0.455080</td>\n",
       "      <td>-0.051158</td>\n",
       "      <td>-0.637151</td>\n",
       "    </tr>\n",
       "    <tr>\n",
       "      <th>2013-01-06</th>\n",
       "      <td>1.599911</td>\n",
       "      <td>1.135875</td>\n",
       "      <td>-0.779164</td>\n",
       "      <td>0.857312</td>\n",
       "    </tr>\n",
       "  </tbody>\n",
       "</table>\n",
       "</div>"
      ],
      "text/plain": [
       "                   A         B         C         D\n",
       "2013-01-01  0.939961  0.197282 -0.695424 -0.918400\n",
       "2013-01-02  0.108016  0.911748 -0.245428  1.805189\n",
       "2013-01-03  2.425627  0.647005 -2.265677  0.562418\n",
       "2013-01-04 -0.586483  1.360005  0.981504 -2.549965\n",
       "2013-01-05  1.243591  0.455080 -0.051158 -0.637151\n",
       "2013-01-06  1.599911  1.135875 -0.779164  0.857312"
      ]
     },
     "execution_count": 49,
     "metadata": {},
     "output_type": "execute_result"
    }
   ],
   "source": [
    "df.sort_index(axis=1, ascending=True)"
   ]
  },
  {
   "cell_type": "code",
   "execution_count": 50,
   "metadata": {},
   "outputs": [
    {
     "data": {
      "text/html": [
       "<div>\n",
       "<style scoped>\n",
       "    .dataframe tbody tr th:only-of-type {\n",
       "        vertical-align: middle;\n",
       "    }\n",
       "\n",
       "    .dataframe tbody tr th {\n",
       "        vertical-align: top;\n",
       "    }\n",
       "\n",
       "    .dataframe thead th {\n",
       "        text-align: right;\n",
       "    }\n",
       "</style>\n",
       "<table border=\"1\" class=\"dataframe\">\n",
       "  <thead>\n",
       "    <tr style=\"text-align: right;\">\n",
       "      <th></th>\n",
       "      <th>A</th>\n",
       "      <th>B</th>\n",
       "      <th>C</th>\n",
       "      <th>D</th>\n",
       "    </tr>\n",
       "  </thead>\n",
       "  <tbody>\n",
       "    <tr>\n",
       "      <th>2013-01-01</th>\n",
       "      <td>0.939961</td>\n",
       "      <td>0.197282</td>\n",
       "      <td>-0.695424</td>\n",
       "      <td>-0.918400</td>\n",
       "    </tr>\n",
       "    <tr>\n",
       "      <th>2013-01-05</th>\n",
       "      <td>1.243591</td>\n",
       "      <td>0.455080</td>\n",
       "      <td>-0.051158</td>\n",
       "      <td>-0.637151</td>\n",
       "    </tr>\n",
       "    <tr>\n",
       "      <th>2013-01-03</th>\n",
       "      <td>2.425627</td>\n",
       "      <td>0.647005</td>\n",
       "      <td>-2.265677</td>\n",
       "      <td>0.562418</td>\n",
       "    </tr>\n",
       "    <tr>\n",
       "      <th>2013-01-02</th>\n",
       "      <td>0.108016</td>\n",
       "      <td>0.911748</td>\n",
       "      <td>-0.245428</td>\n",
       "      <td>1.805189</td>\n",
       "    </tr>\n",
       "    <tr>\n",
       "      <th>2013-01-06</th>\n",
       "      <td>1.599911</td>\n",
       "      <td>1.135875</td>\n",
       "      <td>-0.779164</td>\n",
       "      <td>0.857312</td>\n",
       "    </tr>\n",
       "    <tr>\n",
       "      <th>2013-01-04</th>\n",
       "      <td>-0.586483</td>\n",
       "      <td>1.360005</td>\n",
       "      <td>0.981504</td>\n",
       "      <td>-2.549965</td>\n",
       "    </tr>\n",
       "  </tbody>\n",
       "</table>\n",
       "</div>"
      ],
      "text/plain": [
       "                   A         B         C         D\n",
       "2013-01-01  0.939961  0.197282 -0.695424 -0.918400\n",
       "2013-01-05  1.243591  0.455080 -0.051158 -0.637151\n",
       "2013-01-03  2.425627  0.647005 -2.265677  0.562418\n",
       "2013-01-02  0.108016  0.911748 -0.245428  1.805189\n",
       "2013-01-06  1.599911  1.135875 -0.779164  0.857312\n",
       "2013-01-04 -0.586483  1.360005  0.981504 -2.549965"
      ]
     },
     "execution_count": 50,
     "metadata": {},
     "output_type": "execute_result"
    }
   ],
   "source": [
    "df.sort_values(by='B')"
   ]
  },
  {
   "cell_type": "code",
   "execution_count": 51,
   "metadata": {},
   "outputs": [
    {
     "data": {
      "text/plain": [
       "2013-01-01   -0.695424\n",
       "2013-01-02   -0.245428\n",
       "2013-01-03   -2.265677\n",
       "2013-01-04    0.981504\n",
       "2013-01-05   -0.051158\n",
       "2013-01-06   -0.779164\n",
       "Freq: D, Name: C, dtype: float64"
      ]
     },
     "execution_count": 51,
     "metadata": {},
     "output_type": "execute_result"
    }
   ],
   "source": [
    "df['C']"
   ]
  },
  {
   "cell_type": "code",
   "execution_count": 52,
   "metadata": {},
   "outputs": [
    {
     "data": {
      "text/html": [
       "<div>\n",
       "<style scoped>\n",
       "    .dataframe tbody tr th:only-of-type {\n",
       "        vertical-align: middle;\n",
       "    }\n",
       "\n",
       "    .dataframe tbody tr th {\n",
       "        vertical-align: top;\n",
       "    }\n",
       "\n",
       "    .dataframe thead th {\n",
       "        text-align: right;\n",
       "    }\n",
       "</style>\n",
       "<table border=\"1\" class=\"dataframe\">\n",
       "  <thead>\n",
       "    <tr style=\"text-align: right;\">\n",
       "      <th></th>\n",
       "      <th>A</th>\n",
       "      <th>B</th>\n",
       "      <th>C</th>\n",
       "      <th>D</th>\n",
       "    </tr>\n",
       "  </thead>\n",
       "  <tbody>\n",
       "    <tr>\n",
       "      <th>2013-01-01</th>\n",
       "      <td>0.939961</td>\n",
       "      <td>0.197282</td>\n",
       "      <td>-0.695424</td>\n",
       "      <td>-0.918400</td>\n",
       "    </tr>\n",
       "    <tr>\n",
       "      <th>2013-01-02</th>\n",
       "      <td>0.108016</td>\n",
       "      <td>0.911748</td>\n",
       "      <td>-0.245428</td>\n",
       "      <td>1.805189</td>\n",
       "    </tr>\n",
       "  </tbody>\n",
       "</table>\n",
       "</div>"
      ],
      "text/plain": [
       "                   A         B         C         D\n",
       "2013-01-01  0.939961  0.197282 -0.695424 -0.918400\n",
       "2013-01-02  0.108016  0.911748 -0.245428  1.805189"
      ]
     },
     "execution_count": 52,
     "metadata": {},
     "output_type": "execute_result"
    }
   ],
   "source": [
    "# row wise selection\n",
    "df[0:2]"
   ]
  },
  {
   "cell_type": "code",
   "execution_count": 53,
   "metadata": {},
   "outputs": [
    {
     "data": {
      "text/plain": [
       "A    0.939961\n",
       "B    0.197282\n",
       "C   -0.695424\n",
       "D   -0.918400\n",
       "Name: 2013-01-01 00:00:00, dtype: float64"
      ]
     },
     "execution_count": 53,
     "metadata": {},
     "output_type": "execute_result"
    }
   ],
   "source": [
    "df.loc[dates[0]]"
   ]
  },
  {
   "cell_type": "code",
   "execution_count": 56,
   "metadata": {},
   "outputs": [
    {
     "data": {
      "text/html": [
       "<div>\n",
       "<style scoped>\n",
       "    .dataframe tbody tr th:only-of-type {\n",
       "        vertical-align: middle;\n",
       "    }\n",
       "\n",
       "    .dataframe tbody tr th {\n",
       "        vertical-align: top;\n",
       "    }\n",
       "\n",
       "    .dataframe thead th {\n",
       "        text-align: right;\n",
       "    }\n",
       "</style>\n",
       "<table border=\"1\" class=\"dataframe\">\n",
       "  <thead>\n",
       "    <tr style=\"text-align: right;\">\n",
       "      <th></th>\n",
       "      <th>A</th>\n",
       "      <th>B</th>\n",
       "    </tr>\n",
       "  </thead>\n",
       "  <tbody>\n",
       "    <tr>\n",
       "      <th>2013-01-01</th>\n",
       "      <td>0.939961</td>\n",
       "      <td>0.197282</td>\n",
       "    </tr>\n",
       "    <tr>\n",
       "      <th>2013-01-02</th>\n",
       "      <td>0.108016</td>\n",
       "      <td>0.911748</td>\n",
       "    </tr>\n",
       "    <tr>\n",
       "      <th>2013-01-03</th>\n",
       "      <td>2.425627</td>\n",
       "      <td>0.647005</td>\n",
       "    </tr>\n",
       "    <tr>\n",
       "      <th>2013-01-04</th>\n",
       "      <td>-0.586483</td>\n",
       "      <td>1.360005</td>\n",
       "    </tr>\n",
       "    <tr>\n",
       "      <th>2013-01-05</th>\n",
       "      <td>1.243591</td>\n",
       "      <td>0.455080</td>\n",
       "    </tr>\n",
       "    <tr>\n",
       "      <th>2013-01-06</th>\n",
       "      <td>1.599911</td>\n",
       "      <td>1.135875</td>\n",
       "    </tr>\n",
       "  </tbody>\n",
       "</table>\n",
       "</div>"
      ],
      "text/plain": [
       "                   A         B\n",
       "2013-01-01  0.939961  0.197282\n",
       "2013-01-02  0.108016  0.911748\n",
       "2013-01-03  2.425627  0.647005\n",
       "2013-01-04 -0.586483  1.360005\n",
       "2013-01-05  1.243591  0.455080\n",
       "2013-01-06  1.599911  1.135875"
      ]
     },
     "execution_count": 56,
     "metadata": {},
     "output_type": "execute_result"
    }
   ],
   "source": [
    "# df.loc[<rows>,<columns>]\n",
    "df.loc[:,['A', 'B']]"
   ]
  },
  {
   "cell_type": "code",
   "execution_count": 59,
   "metadata": {},
   "outputs": [
    {
     "data": {
      "text/html": [
       "<div>\n",
       "<style scoped>\n",
       "    .dataframe tbody tr th:only-of-type {\n",
       "        vertical-align: middle;\n",
       "    }\n",
       "\n",
       "    .dataframe tbody tr th {\n",
       "        vertical-align: top;\n",
       "    }\n",
       "\n",
       "    .dataframe thead th {\n",
       "        text-align: right;\n",
       "    }\n",
       "</style>\n",
       "<table border=\"1\" class=\"dataframe\">\n",
       "  <thead>\n",
       "    <tr style=\"text-align: right;\">\n",
       "      <th></th>\n",
       "      <th>A</th>\n",
       "      <th>B</th>\n",
       "      <th>C</th>\n",
       "      <th>D</th>\n",
       "    </tr>\n",
       "  </thead>\n",
       "  <tbody>\n",
       "    <tr>\n",
       "      <th>2013-01-01</th>\n",
       "      <td>0.939961</td>\n",
       "      <td>0.197282</td>\n",
       "      <td>-0.695424</td>\n",
       "      <td>-0.918400</td>\n",
       "    </tr>\n",
       "    <tr>\n",
       "      <th>2013-01-02</th>\n",
       "      <td>0.108016</td>\n",
       "      <td>0.911748</td>\n",
       "      <td>-0.245428</td>\n",
       "      <td>1.805189</td>\n",
       "    </tr>\n",
       "    <tr>\n",
       "      <th>2013-01-03</th>\n",
       "      <td>2.425627</td>\n",
       "      <td>0.647005</td>\n",
       "      <td>-2.265677</td>\n",
       "      <td>0.562418</td>\n",
       "    </tr>\n",
       "  </tbody>\n",
       "</table>\n",
       "</div>"
      ],
      "text/plain": [
       "                   A         B         C         D\n",
       "2013-01-01  0.939961  0.197282 -0.695424 -0.918400\n",
       "2013-01-02  0.108016  0.911748 -0.245428  1.805189\n",
       "2013-01-03  2.425627  0.647005 -2.265677  0.562418"
      ]
     },
     "execution_count": 59,
     "metadata": {},
     "output_type": "execute_result"
    }
   ],
   "source": [
    "# df.iloc[<rows>,<columns>]\n",
    "df.iloc[0:3]"
   ]
  },
  {
   "cell_type": "code",
   "execution_count": 61,
   "metadata": {},
   "outputs": [
    {
     "data": {
      "text/html": [
       "<div>\n",
       "<style scoped>\n",
       "    .dataframe tbody tr th:only-of-type {\n",
       "        vertical-align: middle;\n",
       "    }\n",
       "\n",
       "    .dataframe tbody tr th {\n",
       "        vertical-align: top;\n",
       "    }\n",
       "\n",
       "    .dataframe thead th {\n",
       "        text-align: right;\n",
       "    }\n",
       "</style>\n",
       "<table border=\"1\" class=\"dataframe\">\n",
       "  <thead>\n",
       "    <tr style=\"text-align: right;\">\n",
       "      <th></th>\n",
       "      <th>A</th>\n",
       "      <th>B</th>\n",
       "      <th>C</th>\n",
       "      <th>D</th>\n",
       "    </tr>\n",
       "  </thead>\n",
       "  <tbody>\n",
       "    <tr>\n",
       "      <th>2013-01-03</th>\n",
       "      <td>2.425627</td>\n",
       "      <td>0.647005</td>\n",
       "      <td>-2.265677</td>\n",
       "      <td>0.562418</td>\n",
       "    </tr>\n",
       "    <tr>\n",
       "      <th>2013-01-06</th>\n",
       "      <td>1.599911</td>\n",
       "      <td>1.135875</td>\n",
       "      <td>-0.779164</td>\n",
       "      <td>0.857312</td>\n",
       "    </tr>\n",
       "  </tbody>\n",
       "</table>\n",
       "</div>"
      ],
      "text/plain": [
       "                   A         B         C         D\n",
       "2013-01-03  2.425627  0.647005 -2.265677  0.562418\n",
       "2013-01-06  1.599911  1.135875 -0.779164  0.857312"
      ]
     },
     "execution_count": 61,
     "metadata": {},
     "output_type": "execute_result"
    }
   ],
   "source": [
    "df[df['A']>1.5]"
   ]
  },
  {
   "cell_type": "code",
   "execution_count": null,
   "metadata": {},
   "outputs": [],
   "source": []
  }
 ],
 "metadata": {
  "kernelspec": {
   "display_name": "Python 3.10.5 ('DSPython')",
   "language": "python",
   "name": "python3"
  },
  "language_info": {
   "codemirror_mode": {
    "name": "ipython",
    "version": 3
   },
   "file_extension": ".py",
   "mimetype": "text/x-python",
   "name": "python",
   "nbconvert_exporter": "python",
   "pygments_lexer": "ipython3",
   "version": "3.10.5"
  },
  "orig_nbformat": 4,
  "vscode": {
   "interpreter": {
    "hash": "93986b8e7468326bc9889ab39fcbde95de59938d273344dd2735bc8b31ca8b6d"
   }
  }
 },
 "nbformat": 4,
 "nbformat_minor": 2
}
